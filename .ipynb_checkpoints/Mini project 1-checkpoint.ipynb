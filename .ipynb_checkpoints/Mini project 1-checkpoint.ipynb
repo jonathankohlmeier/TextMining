{
 "cells": [
  {
   "cell_type": "code",
   "execution_count": 12,
   "metadata": {
    "collapsed": true
   },
   "outputs": [],
   "source": [
    "import string\n",
    "import random\n",
    "\n",
    "def process_file(filename):\n",
    "    hist = {}\n",
    "    fp = file(filename)\n",
    "    \n",
    "    for line in fp:\n",
    "        process_line(line, hist)\n",
    "    return hist\n",
    "\n",
    "def process_line(line, hist):\n",
    "    \n",
    "    line = line.replace('-', ' ')\n",
    "    \n",
    "    for word in line.split():\n",
    "        word = word.strip(string.punctuation + string.whitespace)\n",
    "        word = word.lower()\n",
    "\n",
    "        hist[word] = hist.get(word, 0) + 1"
   ]
  },
  {
   "cell_type": "code",
   "execution_count": 15,
   "metadata": {
    "collapsed": false
   },
   "outputs": [],
   "source": [
    "HamletHist = process_file('Hamlet')"
   ]
  },
  {
   "cell_type": "code",
   "execution_count": 1,
   "metadata": {
    "collapsed": false
   },
   "outputs": [],
   "source": [
    "def most_common(hist):\n",
    "    \"\"\"Makes a list of the key-value pairs from a histogram and\n",
    "    sorts them in descending order by frequency.\"\"\"\n",
    "    t = []\n",
    "    for key, value in hist.items():\n",
    "        t.append((value, key))\n",
    "\n",
    "    t.sort()\n",
    "    t.reverse()\n",
    "    return t\n",
    "\n",
    "#most_common(HamletHist)"
   ]
  },
  {
   "cell_type": "code",
   "execution_count": 2,
   "metadata": {
    "collapsed": false
   },
   "outputs": [],
   "source": [
    "\n",
    "def print_most_common(hist, num=10):\n",
    "    \"\"\"Prints the most commons words in a histgram and their frequencies.\n",
    "    \n",
    "    hist: histogram (map from word to frequency\n",
    "    num: number of words to print\n",
    "    \"\"\"\n",
    "    t = most_common(hist)\n",
    "    print 'The most common words are:'\n",
    "    for freq, word in t[:num]:\n",
    "        print word, '\\t', freq\n",
    "        \n",
    "#print_most_common(HamletHist, 25)"
   ]
  },
  {
   "cell_type": "markdown",
   "metadata": {},
   "source": [
    "# Baseline: Dictionary"
   ]
  },
  {
   "cell_type": "code",
   "execution_count": 2,
   "metadata": {
    "collapsed": false
   },
   "outputs": [
    {
     "name": "stdout",
     "output_type": "stream",
     "text": [
      "(-0.0031300656569061463, 0.5897155413604808)\n"
     ]
    }
   ],
   "source": [
    "text_words = \"\"\n",
    "\n",
    "d = open('words.txt')\n",
    "for line in d:\n",
    "    text_words = text_words + line\n",
    "\n",
    "from pattern.en import *\n",
    "print sentiment(text_words)"
   ]
  },
  {
   "cell_type": "markdown",
   "metadata": {},
   "source": [
    "# Tragedy"
   ]
  },
  {
   "cell_type": "code",
   "execution_count": 5,
   "metadata": {
    "collapsed": false
   },
   "outputs": [
    {
     "name": "stdout",
     "output_type": "stream",
     "text": [
      "(0.15143970236813434, 0.5283476544359327)\n"
     ]
    }
   ],
   "source": [
    "text = \"\"\n",
    "\n",
    "f = open('Hamlet')\n",
    "for line in f:\n",
    "    text = text + line\n",
    "\n",
    "from pattern.en import *\n",
    "print sentiment(text)"
   ]
  },
  {
   "cell_type": "code",
   "execution_count": 6,
   "metadata": {
    "collapsed": false
   },
   "outputs": [
    {
     "name": "stdout",
     "output_type": "stream",
     "text": [
      "(0.1554669120570288, 0.5336560799074718)\n"
     ]
    }
   ],
   "source": [
    "text_RJ = \"\"\n",
    "\n",
    "a = open('R_J.txt')\n",
    "for line in a:\n",
    "    text_RJ = text_RJ + line\n",
    "\n",
    "from pattern.en import *\n",
    "print sentiment(text_RJ)"
   ]
  },
  {
   "cell_type": "code",
   "execution_count": 10,
   "metadata": {
    "collapsed": false
   },
   "outputs": [
    {
     "name": "stdout",
     "output_type": "stream",
     "text": [
      "(0.14481280462717588, 0.5250854451602947)\n"
     ]
    }
   ],
   "source": [
    "text_macbeth = \"\"\n",
    "\n",
    "i = open('macbeth.txt')\n",
    "for line in i:\n",
    "    text_macbeth = text_macbeth + line\n",
    "\n",
    "from pattern.en import *\n",
    "print sentiment(text_macbeth)"
   ]
  },
  {
   "cell_type": "code",
   "execution_count": 8,
   "metadata": {
    "collapsed": false
   },
   "outputs": [
    {
     "name": "stdout",
     "output_type": "stream",
     "text": [
      "(0.16754997821944217, 0.5759363813835204)\n"
     ]
    }
   ],
   "source": [
    "text_othello = \"\"\n",
    "\n",
    "h = open('Othello.txt')\n",
    "for line in h:\n",
    "    text_othello = text_othello + line\n",
    "\n",
    "from pattern.en import *\n",
    "print sentiment(text_othello)"
   ]
  },
  {
   "cell_type": "markdown",
   "metadata": {},
   "source": [
    "# Comedy"
   ]
  },
  {
   "cell_type": "code",
   "execution_count": 4,
   "metadata": {
    "collapsed": false
   },
   "outputs": [
    {
     "name": "stdout",
     "output_type": "stream",
     "text": [
      "(0.0, 0.0)\n"
     ]
    }
   ],
   "source": [
    "text_12 = \"\"\n",
    "\n",
    "b = open('12.txt')\n",
    "for line in b:\n",
    "    text_venice = text_12 + line\n",
    "\n",
    "from pattern.en import *\n",
    "print sentiment(text_12)"
   ]
  },
  {
   "cell_type": "code",
   "execution_count": 8,
   "metadata": {
    "collapsed": false
   },
   "outputs": [
    {
     "name": "stdout",
     "output_type": "stream",
     "text": [
      "(0.19298826263548502, 0.5376713132929826)\n"
     ]
    }
   ],
   "source": [
    "text_midsummer = \"\"\n",
    "\n",
    "c = open('Midsummer.txt')\n",
    "for line in c:\n",
    "    text_midsummer = text_midsummer + line\n",
    "\n",
    "from pattern.en import *\n",
    "print sentiment(text_midsummer)"
   ]
  },
  {
   "cell_type": "code",
   "execution_count": 3,
   "metadata": {
    "collapsed": false
   },
   "outputs": [
    {
     "name": "stdout",
     "output_type": "stream",
     "text": [
      "(0.19215543149610578, 0.513500945939436)\n"
     ]
    }
   ],
   "source": [
    "text_all = \"\"\n",
    "\n",
    "e = open('allwell.txt')\n",
    "for line in e:\n",
    "    text_all = text_all + line\n",
    "\n",
    "from pattern.en import *\n",
    "print sentiment(text_all)"
   ]
  },
  {
   "cell_type": "code",
   "execution_count": 4,
   "metadata": {
    "collapsed": false
   },
   "outputs": [
    {
     "name": "stdout",
     "output_type": "stream",
     "text": [
      "(0.19846950027023855, 0.5493760673814451)\n"
     ]
    }
   ],
   "source": [
    "text_nothing = \"\"\n",
    "\n",
    "g = open('nothing.txt')\n",
    "for line in g:\n",
    "    text_nothing = text_nothing + line\n",
    "\n",
    "from pattern.en import *\n",
    "print sentiment(text_nothing)"
   ]
  },
  {
   "cell_type": "code",
   "execution_count": null,
   "metadata": {
    "collapsed": true
   },
   "outputs": [],
   "source": []
  }
 ],
 "metadata": {
  "kernelspec": {
   "display_name": "Python 2",
   "language": "python",
   "name": "python2"
  },
  "language_info": {
   "codemirror_mode": {
    "name": "ipython",
    "version": 2
   },
   "file_extension": ".py",
   "mimetype": "text/x-python",
   "name": "python",
   "nbconvert_exporter": "python",
   "pygments_lexer": "ipython2",
   "version": "2.7.6"
  }
 },
 "nbformat": 4,
 "nbformat_minor": 1
}
