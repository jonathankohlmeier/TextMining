{
 "cells": [
  {
   "cell_type": "code",
   "execution_count": 15,
   "metadata": {
    "collapsed": true
   },
   "outputs": [],
   "source": [
    "import string\n",
    "import random\n",
    "\n",
    "def process_file(filename):\n",
    "    hist = {}\n",
    "    fp = file(filename)\n",
    "    \n",
    "    for line in fp:\n",
    "        process_line(line, hist)\n",
    "    return hist\n",
    "\n",
    "def process_line(line, hist):\n",
    "    \n",
    "    line = line.replace('-', ' ')\n",
    "    \n",
    "    for word in line.split():\n",
    "        word = word.strip(string.punctuation + string.whitespace)\n",
    "        word = word.lower()\n",
    "\n",
    "        hist[word] = hist.get(word, 0) + 1"
   ]
  },
  {
   "cell_type": "code",
   "execution_count": 16,
   "metadata": {
    "collapsed": false
   },
   "outputs": [],
   "source": [
    "HamletHist = process_file('Hamlet')"
   ]
  },
  {
   "cell_type": "code",
   "execution_count": 3,
   "metadata": {
    "collapsed": false
   },
   "outputs": [],
   "source": [
    "def most_common(hist):\n",
    "    t = []\n",
    "    for key, value in hist.items():\n",
    "        t.append((value, key))\n",
    "\n",
    "    t.sort()\n",
    "    t.reverse()\n",
    "    return t\n",
    "\n",
    "#most_common(HamletHist)"
   ]
  },
  {
   "cell_type": "code",
   "execution_count": 17,
   "metadata": {
    "collapsed": false
   },
   "outputs": [
    {
     "name": "stdout",
     "output_type": "stream",
     "text": [
      "The most common words are:\n",
      "the \t1096\n",
      "and \t992\n",
      "to \t752\n",
      "of \t693\n",
      "i \t577\n",
      "a \t566\n",
      "you \t555\n",
      "my \t520\n",
      "in \t434\n",
      "it \t420\n",
      "that \t397\n",
      "is \t362\n",
      "ham \t358\n",
      "not \t323\n",
      "this \t308\n",
      "his \t304\n",
      "with \t286\n",
      "for \t274\n",
      "but \t274\n",
      "your \t250\n",
      "me \t235\n",
      "as \t235\n",
      "be \t231\n",
      "lord \t224\n",
      "he \t213\n"
     ]
    }
   ],
   "source": [
    "\n",
    "def print_most_common(hist, num=10):\n",
    "    \"\"\"Prints the most commons words in a histgram and their frequencies.\n",
    "    \n",
    "    hist: histogram (map from word to frequency\n",
    "    num: number of words to print\n",
    "    \"\"\"\n",
    "    t = most_common(hist)\n",
    "    print 'The most common words are:'\n",
    "    for freq, word in t[:num]:\n",
    "        print word, '\\t', freq\n",
    "        \n",
    "print_most_common(HamletHist, 25)"
   ]
  },
  {
   "cell_type": "markdown",
   "metadata": {},
   "source": [
    "# Baseline: Dictionary"
   ]
  },
  {
   "cell_type": "code",
   "execution_count": 5,
   "metadata": {
    "collapsed": false
   },
   "outputs": [
    {
     "name": "stdout",
     "output_type": "stream",
     "text": [
      "Sentiment =  (-0.0031300656569061463, 0.5897155413604808)\n"
     ]
    }
   ],
   "source": [
    "text_words = \"\"\n",
    "\n",
    "d = open('words.txt')\n",
    "for line in d:\n",
    "    text_words = text_words + line\n",
    "\n",
    "from pattern.en import *\n",
    "print \"Sentiment = \" , sentiment(text_words)\n"
   ]
  },
  {
   "cell_type": "markdown",
   "metadata": {},
   "source": [
    "# Tragedy"
   ]
  },
  {
   "cell_type": "markdown",
   "metadata": {},
   "source": [
    "### Hamlet"
   ]
  },
  {
   "cell_type": "code",
   "execution_count": 27,
   "metadata": {
    "collapsed": false
   },
   "outputs": [
    {
     "name": "stdout",
     "output_type": "stream",
     "text": [
      "Sentiment =  (0.15143970236813434, 0.5283476544359327)\n",
      "Modality =  0.41676889107\n",
      "Mood =  conditional\n"
     ]
    }
   ],
   "source": [
    "text = \"\"\n",
    "\n",
    "f = open('Hamlet')\n",
    "for line in f:\n",
    "    text = text + line\n",
    "\n",
    "from pattern.en import *\n",
    "print \"Sentiment = \" , sentiment(text)\n",
    "\n",
    "print \"Modality = \" , modality(text)\n",
    "\n",
    "print \"Mood = \" , mood(text)"
   ]
  },
  {
   "cell_type": "markdown",
   "metadata": {},
   "source": [
    "### Romeo and Juilet"
   ]
  },
  {
   "cell_type": "code",
   "execution_count": 26,
   "metadata": {
    "collapsed": false
   },
   "outputs": [
    {
     "name": "stdout",
     "output_type": "stream",
     "text": [
      "Sentiment =  (0.1554669120570288, 0.5336560799074718)\n",
      "Modality =  0.45470307759\n",
      "Mood =  conditional\n"
     ]
    }
   ],
   "source": [
    "text_RJ = \"\"\n",
    "\n",
    "a = open('R_J.txt')\n",
    "for line in a:\n",
    "    text_RJ = text_RJ + line\n",
    "\n",
    "from pattern.en import *\n",
    "print \"Sentiment = \" , sentiment(text_RJ)\n",
    "\n",
    "print \"Modality = \" , modality(text_RJ)\n",
    "\n",
    "print \"Mood = \" , mood(text_RJ)"
   ]
  },
  {
   "cell_type": "markdown",
   "metadata": {},
   "source": [
    "### Macbeth"
   ]
  },
  {
   "cell_type": "code",
   "execution_count": 25,
   "metadata": {
    "collapsed": false
   },
   "outputs": [
    {
     "name": "stdout",
     "output_type": "stream",
     "text": [
      "Sentiment =  (0.14481280462717588, 0.5250854451602947)\n",
      "Modality =  0.425409047161\n",
      "Mood =  conditional\n"
     ]
    }
   ],
   "source": [
    "text_macbeth = \"\"\n",
    "\n",
    "i = open('macbeth.txt')\n",
    "for line in i:\n",
    "    text_macbeth = text_macbeth + line\n",
    "\n",
    "from pattern.en import *\n",
    "print \"Sentiment = \" , sentiment(text_macbeth)\n",
    "\n",
    "print \"Modality = \" , modality(text_macbeth)\n",
    "\n",
    "print \"Mood = \" , mood(text_macbeth)"
   ]
  },
  {
   "cell_type": "markdown",
   "metadata": {},
   "source": [
    "### Othello"
   ]
  },
  {
   "cell_type": "code",
   "execution_count": 24,
   "metadata": {
    "collapsed": false
   },
   "outputs": [
    {
     "name": "stdout",
     "output_type": "stream",
     "text": [
      "Sentiment =  (0.16754997821944217, 0.5759363813835204)\n",
      "Modality =  0.423473513951\n",
      "Mood =  conditional\n"
     ]
    }
   ],
   "source": [
    "text_othello = \"\"\n",
    "\n",
    "h = open('Othello.txt')\n",
    "for line in h:\n",
    "    text_othello = text_othello + line\n",
    "\n",
    "from pattern.en import *\n",
    "print \"Sentiment = \" , sentiment(text_othello)\n",
    "\n",
    "print \"Modality = \" , modality(text_othello)\n",
    "\n",
    "print \"Mood = \" , mood(text_othello)"
   ]
  },
  {
   "cell_type": "markdown",
   "metadata": {},
   "source": [
    "# Comedy"
   ]
  },
  {
   "cell_type": "markdown",
   "metadata": {},
   "source": [
    "### Twelfth Night"
   ]
  },
  {
   "cell_type": "code",
   "execution_count": 23,
   "metadata": {
    "collapsed": false
   },
   "outputs": [
    {
     "name": "stdout",
     "output_type": "stream",
     "text": [
      "Sentiment =  (0.1909150069704359, 0.5541187551341952)\n",
      "Modality =  0.445691747573\n",
      "Mood =  conditional\n"
     ]
    }
   ],
   "source": [
    "text_12 = \"\"\n",
    "\n",
    "b = open('12.txt')\n",
    "for line in b:\n",
    "    text_12 = text_12 + line\n",
    "\n",
    "from pattern.en import *\n",
    "print \"Sentiment = \" , sentiment(text_12)\n",
    "\n",
    "print \"Modality = \" , modality(text_12)\n",
    "\n",
    "print \"Mood = \" , mood(text_12)"
   ]
  },
  {
   "cell_type": "markdown",
   "metadata": {},
   "source": [
    "### A Midsummer Night's Dream"
   ]
  },
  {
   "cell_type": "code",
   "execution_count": 22,
   "metadata": {
    "collapsed": false
   },
   "outputs": [
    {
     "name": "stdout",
     "output_type": "stream",
     "text": [
      "Sentiment =  (0.19298826263548502, 0.5376713132929826)\n",
      "Modality =  0.496867501999\n",
      "Mood =  conditional\n"
     ]
    }
   ],
   "source": [
    "text_midsummer = \"\"\n",
    "\n",
    "c = open('Midsummer.txt')\n",
    "for line in c:\n",
    "    text_midsummer = text_midsummer + line\n",
    "\n",
    "from pattern.en import *\n",
    "print \"Sentiment = \" , sentiment(text_midsummer)\n",
    "\n",
    "print \"Modality = \" , modality(text_midsummer)\n",
    "\n",
    "print \"Mood = \" , mood(text_midsummer)"
   ]
  },
  {
   "cell_type": "markdown",
   "metadata": {},
   "source": [
    "### All's Well That Ends Well"
   ]
  },
  {
   "cell_type": "code",
   "execution_count": 20,
   "metadata": {
    "collapsed": false
   },
   "outputs": [
    {
     "name": "stdout",
     "output_type": "stream",
     "text": [
      "Sentiment =  (0.19215543149610578, 0.513500945939436)\n",
      "Modality =  0.440460338596\n",
      "Mood =  subjunctive\n"
     ]
    }
   ],
   "source": [
    "text_all = \"\"\n",
    "\n",
    "e = open('allwell.txt')\n",
    "for line in e:\n",
    "    text_all = text_all + line\n",
    "\n",
    "from pattern.en import *\n",
    "print \"Sentiment = \" , sentiment(text_all)\n",
    "\n",
    "print \"Modality = \" , modality(text_all)\n",
    "\n",
    "print \"Mood = \" , mood(text_all)"
   ]
  },
  {
   "cell_type": "markdown",
   "metadata": {},
   "source": [
    "### Much Ado About Nothing"
   ]
  },
  {
   "cell_type": "code",
   "execution_count": 19,
   "metadata": {
    "collapsed": false
   },
   "outputs": [
    {
     "name": "stdout",
     "output_type": "stream",
     "text": [
      "Sentiment =  (0.19846950027023855, 0.5493760673814451)\n",
      "Modality =  0.432818012036\n",
      "Mood =  subjunctive\n"
     ]
    }
   ],
   "source": [
    "text_nothing = \"\"\n",
    "\n",
    "g = open('nothing.txt')\n",
    "for line in g:\n",
    "    text_nothing = text_nothing + line\n",
    "\n",
    "from pattern.en import *\n",
    "print \"Sentiment = \" , sentiment(text_nothing)\n",
    "\n",
    "print \"Modality = \" , modality(text_nothing)\n",
    "\n",
    "print \"Mood = \" , mood(text_nothing)"
   ]
  },
  {
   "cell_type": "markdown",
   "metadata": {},
   "source": [
    "## Significance"
   ]
  },
  {
   "cell_type": "markdown",
   "metadata": {},
   "source": [
    "## Sentiment"
   ]
  },
  {
   "cell_type": "code",
   "execution_count": 14,
   "metadata": {
    "collapsed": false
   },
   "outputs": [
    {
     "name": "stdout",
     "output_type": "stream",
     "text": [
      "The t-statistic is -7.669 and the p-value is 0.000.\n"
     ]
    }
   ],
   "source": [
    "from scipy import stats\n",
    "\n",
    "tragedy = [.15143970236813434, .1554669120570288, .14481280462717588, .16754997821944217]\n",
    "comedy = [.1909150069704359, .19298826263548502, .19215543149610578, .19846950027023855]\n",
    "\n",
    "two_sample = stats.ttest_ind(tragedy, comedy)\n",
    "\n",
    "print \"The t-statistic is %.3f and the p-value is %.3f.\" % two_sample"
   ]
  },
  {
   "cell_type": "markdown",
   "metadata": {},
   "source": [
    "## Modality"
   ]
  },
  {
   "cell_type": "code",
   "execution_count": 18,
   "metadata": {
    "collapsed": false
   },
   "outputs": [
    {
     "name": "stdout",
     "output_type": "stream",
     "text": [
      "The t-statistic is -1.421 and the p-value is 0.205.\n"
     ]
    }
   ],
   "source": [
    "from scipy import stats\n",
    "\n",
    "tragedy_m = [.41676889107, .45470307759, .425409047161, .423473513951]\n",
    "comedy_m = [.445691747573, .496867501999, .440460338596, .432818012036]\n",
    "\n",
    "two_sample = stats.ttest_ind(tragedy_m, comedy_m)\n",
    "\n",
    "print \"The t-statistic is %.3f and the p-value is %.3f.\" % two_sample"
   ]
  },
  {
   "cell_type": "markdown",
   "metadata": {},
   "source": [
    "# Writeup"
   ]
  },
  {
   "cell_type": "markdown",
   "metadata": {},
   "source": [
    "Project Overview:\n",
    "    I used Project Gutenberg to find various plays from Shakespeare. Shakespeare's plays are commonly categorized into two groups, Tragedies and comedies. I picked 4 of each to analyze. The tragedies I chose were Hamlet, Romeo and Juliet, Macbeth, and Othelo. The comedies I chose were Twelfth Night, A Midsummer Night's Dream, All's Well That Ends Well, and Much Ado About Nothing. I used the Patern.en module to do sentiment analysis, modality analysis, and mood analysis of each play. I also used the scipy module to complete a two sample t-test on the numerical outputs to see if there were statistically significant differences between tragedies and comedies. \n",
    "\n",
    "Implementation:\n",
    "\n",
    "Results:\n",
    "\n",
    "Reflection\n"
   ]
  }
 ],
 "metadata": {
  "kernelspec": {
   "display_name": "Python 2",
   "language": "python",
   "name": "python2"
  },
  "language_info": {
   "codemirror_mode": {
    "name": "ipython",
    "version": 2
   },
   "file_extension": ".py",
   "mimetype": "text/x-python",
   "name": "python",
   "nbconvert_exporter": "python",
   "pygments_lexer": "ipython2",
   "version": "2.7.6"
  }
 },
 "nbformat": 4,
 "nbformat_minor": 1
}
